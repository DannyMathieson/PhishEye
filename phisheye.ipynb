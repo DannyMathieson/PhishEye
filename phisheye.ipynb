{
 "cells": [
  {
   "cell_type": "markdown",
   "metadata": {},
   "source": [
    "# PhishEye"
   ]
  },
  {
   "attachments": {},
   "cell_type": "markdown",
   "metadata": {},
   "source": [
    "### Import Statements"
   ]
  },
  {
   "cell_type": "code",
   "execution_count": null,
   "metadata": {},
   "outputs": [],
   "source": [
    "# pip install dnstwist\n",
    "# pip install DNSPython\n",
    "# pip install pillow"
   ]
  },
  {
   "cell_type": "code",
   "execution_count": 1,
   "metadata": {},
   "outputs": [],
   "source": [
    "import pandas as pd\n",
    "import dnstwist\n",
    "import numpy as np \n",
    "import matplotlib.pyplot as plt \n"
   ]
  },
  {
   "attachments": {},
   "cell_type": "markdown",
   "metadata": {},
   "source": [
    "### Dataset Exploration"
   ]
  },
  {
   "cell_type": "code",
   "execution_count": 188,
   "metadata": {},
   "outputs": [
    {
     "data": {
      "text/plain": [
       "2158"
      ]
     },
     "execution_count": 188,
     "metadata": {},
     "output_type": "execute_result"
    }
   ],
   "source": [
    "fuzz = dnstwist.Fuzzer(\"www.google.com\")\n",
    "fuzz.generate()\n",
    "len(fuzz.permutations())"
   ]
  },
  {
   "cell_type": "code",
   "execution_count": 189,
   "metadata": {},
   "outputs": [],
   "source": [
    "data = dnstwist.run(domain='google.com', registered=True, format='null')\n",
    "reg = [d['domain'] for d in data]\n"
   ]
  },
  {
   "cell_type": "code",
   "execution_count": 190,
   "metadata": {},
   "outputs": [],
   "source": [
    "data_non = dnstwist.run(domain='google.com', unregistered=True, format='null')\n",
    "nonreg = [d['domain'] for d in data_non]\n"
   ]
  },
  {
   "cell_type": "code",
   "execution_count": null,
   "metadata": {},
   "outputs": [],
   "source": [
    "def intersection(lst1, lst2):\n",
    "    return list(set(lst1) & set(lst2))\n",
    "\n",
    "intersection(reg, nonreg)"
   ]
  },
  {
   "cell_type": "code",
   "execution_count": null,
   "metadata": {},
   "outputs": [],
   "source": [
    "print (f'The number of registered permutations is: {len(reg)}')\n",
    "print (f'The number of non registered permutations is: {len(nonreg)}')\n"
   ]
  },
  {
   "cell_type": "code",
   "execution_count": null,
   "metadata": {},
   "outputs": [],
   "source": [
    "print (reg[::15])\n",
    "print (nonreg[::150])"
   ]
  },
  {
   "cell_type": "code",
   "execution_count": null,
   "metadata": {},
   "outputs": [],
   "source": [
    "domains_df = pd.read_csv('./top-1m.csv', header=None, index_col=0)\n",
    "domains_df.head()"
   ]
  },
  {
   "cell_type": "code",
   "execution_count": null,
   "metadata": {},
   "outputs": [],
   "source": [
    "def get_dicts(domain_list):\n",
    "    reg_dict, nonreg_dict = {}, {}\n",
    "    for domain in domain_list:\n",
    "        data_reg = dnstwist.run(domain=f'{domain}', registered=True, format='null')\n",
    "        reg = [d['domain'] for d in data_reg]\n",
    "        reg_dict[domain]  = len(reg)\n",
    "        data_nonreg = dnstwist.run(domain=f'{domain}', unregistered=True, format='null')\n",
    "        nonreg = [d['domain'] for d in data_nonreg]\n",
    "        nonreg_dict[domain]  = len(nonreg)\n",
    "    return reg_dict, nonreg_dict\n",
    "# eda_reg, eda_nonreg = get_dicts(list(domains_df[1].values[:10]))\n",
    "# eda_reg\n"
   ]
  },
  {
   "cell_type": "code",
   "execution_count": null,
   "metadata": {},
   "outputs": [],
   "source": [
    "# x = list(eda_reg.keys())\n",
    "# Yreg = list(eda_reg.values())\n",
    "# Znonreg= list(eda_nonreg.values())\n",
    "# X_axis = np.arange(len(x))\n",
    "  \n",
    "# plt.bar(x, Znonreg, color='steelblue')\n",
    "# plt.bar(x, Yreg, bottom=Znonreg, color='darkorange')\n",
    "  \n",
    "# plt.xlabel(\"Domains\")\n",
    "# plt.ylabel(\"Number of Permutations\")\n",
    "# plt.title(\"Number of Registered and Non Registered Domain Permutations\")\n",
    "# plt.xticks(rotation=30)\n",
    "\n",
    "# plt.legend(labels = ['Non Registered: Benign', 'Registered: Malicious'])\n",
    "# plt.show()"
   ]
  },
  {
   "cell_type": "code",
   "execution_count": null,
   "metadata": {},
   "outputs": [],
   "source": [
    "def create_twist_dict(domains):\n",
    "    twist_dict = {}\n",
    "    for domain in domains:\n",
    "        #twist_dict[domain] = [[],[]]\n",
    "        data_reg = dnstwist.run(domain=f'{domain}', registered=True, format='null')\n",
    "        reg = [d['domain'] for d in data_reg]\n",
    "        for homograph in reg:\n",
    "            twist_dict[homograph] = [domain, True]\n",
    "\n",
    "        data_nonreg = dnstwist.run(domain=f'{domain}', unregistered=True, format='null')\n",
    "        nonreg = [d['domain'] for d in data_nonreg]\n",
    "        for homograph in nonreg:\n",
    "            twist_dict[homograph] = [domain, False]\n",
    "    return twist_dict\n",
    "\n",
    "twisted_dict = create_twist_dict(list(domains_df[1].values[:10]))"
   ]
  },
  {
   "cell_type": "code",
   "execution_count": null,
   "metadata": {},
   "outputs": [],
   "source": [
    "twisted_df = pd.DataFrame.from_dict(twisted_dict, orient='index').reset_index()\n",
    "twisted_df.columns = ['Homograph', 'Domain', 'Registered']\n",
    "twisted_df.to_csv('twisted.csv')\n",
    "twisted_df\n"
   ]
  },
  {
   "attachments": {},
   "cell_type": "markdown",
   "metadata": {},
   "source": [
    "### Text Distance Metrics"
   ]
  },
  {
   "cell_type": "code",
   "execution_count": 191,
   "metadata": {},
   "outputs": [
    {
     "name": "stdout",
     "output_type": "stream",
     "text": [
      "3\n",
      "0.18000000000000005\n",
      "0.5\n",
      "0.5555555555555556\n"
     ]
    }
   ],
   "source": [
    "from strsimpy.levenshtein import Levenshtein\n",
    "from strsimpy.jaro_winkler import JaroWinkler\n",
    "from strsimpy.sorensen_dice import SorensenDice\n",
    "from strsimpy.cosine import Cosine\n",
    "\n",
    "test_string1 = reg[0] # google.com\n",
    "test_string2 = nonreg[1] # g00qle.com\n",
    "\n",
    "levenshtein = Levenshtein()\n",
    "print(levenshtein.distance(test_string1, test_string2))\n",
    "\n",
    "jarowinkler = JaroWinkler()\n",
    "print(jarowinkler.distance(test_string1, test_string2))\n",
    "\n",
    "sorensondice = SorensenDice()\n",
    "print(sorensondice.distance(test_string1, test_string2))\n",
    "\n",
    "cosine = Cosine(2)\n",
    "a = cosine.get_profile(test_string1)\n",
    "b = cosine.get_profile(test_string2)\n",
    "print(cosine.similarity_profiles(a,b))\n"
   ]
  },
  {
   "cell_type": "code",
   "execution_count": null,
   "metadata": {},
   "outputs": [],
   "source": [
    "for index, row in twisted_df.iterrows():\n",
    "    twisted_df.loc[index,'Levenshtein'] = levenshtein.distance(row['Domain'], row['Homograph'])\n",
    "    twisted_df.loc[index,'Jaro-Winkler'] = jarowinkler.distance(row['Domain'], row['Homograph'])\n",
    "    twisted_df.loc[index,'Sorenson-Dice'] = sorensondice.distance(row['Domain'], row['Homograph'])\n",
    "    str_to_vect_a= cosine.get_profile(row['Domain'])\n",
    "    str_to_vect_b= cosine.get_profile(row['Homograph'])\n",
    "    twisted_df.loc[index,'Cosine'] = cosine.similarity_profiles(str_to_vect_a, str_to_vect_b)\n",
    "\n",
    "twisted_df    "
   ]
  },
  {
   "cell_type": "code",
   "execution_count": null,
   "metadata": {},
   "outputs": [],
   "source": [
    "# twisted_df.to_csv('twisted_text_distance.csv')"
   ]
  },
  {
   "attachments": {},
   "cell_type": "markdown",
   "metadata": {},
   "source": [
    "### Image Similarity"
   ]
  },
  {
   "cell_type": "code",
   "execution_count": 4,
   "metadata": {},
   "outputs": [],
   "source": [
    "from PIL import Image, ImageDraw, ImageFont"
   ]
  },
  {
   "cell_type": "code",
   "execution_count": null,
   "metadata": {},
   "outputs": [],
   "source": [
    "# test sizing\n",
    "lengths = [len(s) for s in twisted_df.Homograph]\n",
    "longest_idx= lengths.index(max(lengths))\n",
    "text = twisted_df.Homograph[longest_idx]\n",
    "img = Image.new('RGB', (1024, 128))\n",
    "# use bold font\n",
    "font = ImageFont.truetype(f\"./fonts/arial bold.ttf\",70)\n",
    "# draw image\n",
    "d1 = ImageDraw.Draw(img)\n",
    "# Center text in image\n",
    "xpos = (img.size[0] / 2) - (font.getsize(text)[0]/2)\n",
    "ypos = (img.size[1] / 2) - (font.getsize(text)[1]/2)\n",
    "d1.text((xpos, ypos), text, fill =(255, 255, 255), font=font)\n",
    "# show image\n",
    "img.show()\n"
   ]
  },
  {
   "cell_type": "code",
   "execution_count": 3,
   "metadata": {},
   "outputs": [],
   "source": [
    "import os.path\n",
    "\n",
    "def create_image(string, font='arial.ttf', show=False):\n",
    "    if not os.path.isfile(f'./images/{string}.jpeg'):\n",
    "        img = Image.new('RGB', (1024, 128))\n",
    "        text = string\n",
    "        # use declared font\n",
    "        font = ImageFont.truetype(f\"./fonts/{font}\",70)\n",
    "        # draw image\n",
    "        d1 = ImageDraw.Draw(img)\n",
    "        # Center text in image\n",
    "        xpos = (img.size[0] / 2) - (font.getsize(text)[0]/2)\n",
    "        ypos = (img.size[1] / 2) - (font.getsize(text)[1]/2)\n",
    "        d1.text((xpos, ypos), text, fill =(255, 255, 255), font=font)\n",
    "        # show and save the image\n",
    "        if show:\n",
    "            img.show()\n",
    "        img.save(f'images/{string}.jpeg')\n",
    "\n",
    "# for test_string in [test_string1, test_string2]:\n",
    "#     create_image(test_string, show=True)\n"
   ]
  },
  {
   "attachments": {},
   "cell_type": "markdown",
   "metadata": {},
   "source": [
    "### Simple"
   ]
  },
  {
   "cell_type": "code",
   "execution_count": 194,
   "metadata": {},
   "outputs": [
    {
     "data": {
      "text/plain": [
       "0.028954753989188453"
      ]
     },
     "execution_count": 194,
     "metadata": {},
     "output_type": "execute_result"
    }
   ],
   "source": [
    "from skimage.metrics import structural_similarity as ssim, mean_squared_error as mse\n",
    "import numpy as np\n",
    "import cv2\n",
    "\n",
    "def calculate_similarity(string_a, string_b):\n",
    "    imageA = cv2.imread(f'./images/{string_a}.jpeg')\n",
    "    imageB= cv2.imread(f'./images/{string_b}.jpeg')\n",
    "    gsA = cv2.cvtColor(imageA, cv2.COLOR_BGR2GRAY)\n",
    "    gsB = cv2.cvtColor(imageB, cv2.COLOR_BGR2GRAY)\n",
    "    # Calculate the MSE, SSIM, COS\n",
    "    m = mse(gsA, gsB)\n",
    "    s = ssim(gsA, gsB)\n",
    "    return  m, s\n",
    "calculate_similarity(test_string1, test_string2)"
   ]
  },
  {
   "cell_type": "code",
   "execution_count": 195,
   "metadata": {},
   "outputs": [
    {
     "data": {
      "text/html": [
       "<div>\n",
       "<style scoped>\n",
       "    .dataframe tbody tr th:only-of-type {\n",
       "        vertical-align: middle;\n",
       "    }\n",
       "\n",
       "    .dataframe tbody tr th {\n",
       "        vertical-align: top;\n",
       "    }\n",
       "\n",
       "    .dataframe thead th {\n",
       "        text-align: right;\n",
       "    }\n",
       "</style>\n",
       "<table border=\"1\" class=\"dataframe\">\n",
       "  <thead>\n",
       "    <tr style=\"text-align: right;\">\n",
       "      <th></th>\n",
       "      <th>Homograph</th>\n",
       "      <th>Domain</th>\n",
       "      <th>Registered</th>\n",
       "      <th>Levenshtein</th>\n",
       "      <th>Jaro-Winkler</th>\n",
       "      <th>Sorenson-Dice</th>\n",
       "      <th>Cosine</th>\n",
       "      <th>MSE</th>\n",
       "      <th>SSM</th>\n",
       "      <th>COS</th>\n",
       "    </tr>\n",
       "  </thead>\n",
       "  <tbody>\n",
       "    <tr>\n",
       "      <th>0</th>\n",
       "      <td>google.com</td>\n",
       "      <td>google.com</td>\n",
       "      <td>True</td>\n",
       "      <td>0.0</td>\n",
       "      <td>0.000000</td>\n",
       "      <td>0.000000</td>\n",
       "      <td>1.000000</td>\n",
       "      <td>0.000000</td>\n",
       "      <td>1.000000</td>\n",
       "      <td>0.000000</td>\n",
       "    </tr>\n",
       "    <tr>\n",
       "      <th>1</th>\n",
       "      <td>google7.com</td>\n",
       "      <td>google.com</td>\n",
       "      <td>True</td>\n",
       "      <td>1.0</td>\n",
       "      <td>0.013774</td>\n",
       "      <td>0.294118</td>\n",
       "      <td>0.843274</td>\n",
       "      <td>3573.467743</td>\n",
       "      <td>0.848874</td>\n",
       "      <td>0.516013</td>\n",
       "    </tr>\n",
       "    <tr>\n",
       "      <th>2</th>\n",
       "      <td>googlea.com</td>\n",
       "      <td>google.com</td>\n",
       "      <td>True</td>\n",
       "      <td>1.0</td>\n",
       "      <td>0.013774</td>\n",
       "      <td>0.294118</td>\n",
       "      <td>0.843274</td>\n",
       "      <td>3562.883354</td>\n",
       "      <td>0.851078</td>\n",
       "      <td>0.551641</td>\n",
       "    </tr>\n",
       "    <tr>\n",
       "      <th>3</th>\n",
       "      <td>googled.com</td>\n",
       "      <td>google.com</td>\n",
       "      <td>True</td>\n",
       "      <td>1.0</td>\n",
       "      <td>0.013774</td>\n",
       "      <td>0.294118</td>\n",
       "      <td>0.843274</td>\n",
       "      <td>3576.705872</td>\n",
       "      <td>0.849858</td>\n",
       "      <td>0.531842</td>\n",
       "    </tr>\n",
       "    <tr>\n",
       "      <th>4</th>\n",
       "      <td>googlej.com</td>\n",
       "      <td>google.com</td>\n",
       "      <td>True</td>\n",
       "      <td>1.0</td>\n",
       "      <td>0.013774</td>\n",
       "      <td>0.294118</td>\n",
       "      <td>0.843274</td>\n",
       "      <td>3890.821388</td>\n",
       "      <td>0.849594</td>\n",
       "      <td>0.937457</td>\n",
       "    </tr>\n",
       "    <tr>\n",
       "      <th>...</th>\n",
       "      <td>...</td>\n",
       "      <td>...</td>\n",
       "      <td>...</td>\n",
       "      <td>...</td>\n",
       "      <td>...</td>\n",
       "      <td>...</td>\n",
       "      <td>...</td>\n",
       "      <td>...</td>\n",
       "      <td>...</td>\n",
       "      <td>...</td>\n",
       "    </tr>\n",
       "    <tr>\n",
       "      <th>47009</th>\n",
       "      <td>i.nstagram.com</td>\n",
       "      <td>instagram.com</td>\n",
       "      <td>False</td>\n",
       "      <td>1.0</td>\n",
       "      <td>0.022109</td>\n",
       "      <td>0.130435</td>\n",
       "      <td>0.880705</td>\n",
       "      <td>4724.995277</td>\n",
       "      <td>0.821886</td>\n",
       "      <td>0.839922</td>\n",
       "    </tr>\n",
       "    <tr>\n",
       "      <th>47010</th>\n",
       "      <td>in.stagram.com</td>\n",
       "      <td>instagram.com</td>\n",
       "      <td>False</td>\n",
       "      <td>1.0</td>\n",
       "      <td>0.020408</td>\n",
       "      <td>0.217391</td>\n",
       "      <td>0.880705</td>\n",
       "      <td>4730.435272</td>\n",
       "      <td>0.820904</td>\n",
       "      <td>0.864847</td>\n",
       "    </tr>\n",
       "    <tr>\n",
       "      <th>47011</th>\n",
       "      <td>inst.agram.com</td>\n",
       "      <td>instagram.com</td>\n",
       "      <td>False</td>\n",
       "      <td>1.0</td>\n",
       "      <td>0.071952</td>\n",
       "      <td>0.217391</td>\n",
       "      <td>0.880705</td>\n",
       "      <td>4727.817451</td>\n",
       "      <td>0.821145</td>\n",
       "      <td>0.848572</td>\n",
       "    </tr>\n",
       "    <tr>\n",
       "      <th>47012</th>\n",
       "      <td>insta.gram.com</td>\n",
       "      <td>instagram.com</td>\n",
       "      <td>False</td>\n",
       "      <td>1.0</td>\n",
       "      <td>0.048273</td>\n",
       "      <td>0.217391</td>\n",
       "      <td>0.880705</td>\n",
       "      <td>4748.178596</td>\n",
       "      <td>0.821017</td>\n",
       "      <td>0.808987</td>\n",
       "    </tr>\n",
       "    <tr>\n",
       "      <th>47013</th>\n",
       "      <td>instag.ram.com</td>\n",
       "      <td>instagram.com</td>\n",
       "      <td>False</td>\n",
       "      <td>1.0</td>\n",
       "      <td>0.042909</td>\n",
       "      <td>0.217391</td>\n",
       "      <td>0.880705</td>\n",
       "      <td>4728.070107</td>\n",
       "      <td>0.821479</td>\n",
       "      <td>0.757199</td>\n",
       "    </tr>\n",
       "  </tbody>\n",
       "</table>\n",
       "<p>47014 rows × 10 columns</p>\n",
       "</div>"
      ],
      "text/plain": [
       "            Homograph         Domain  Registered  Levenshtein  Jaro-Winkler  \\\n",
       "0          google.com     google.com        True          0.0      0.000000   \n",
       "1         google7.com     google.com        True          1.0      0.013774   \n",
       "2         googlea.com     google.com        True          1.0      0.013774   \n",
       "3         googled.com     google.com        True          1.0      0.013774   \n",
       "4         googlej.com     google.com        True          1.0      0.013774   \n",
       "...               ...            ...         ...          ...           ...   \n",
       "47009  i.nstagram.com  instagram.com       False          1.0      0.022109   \n",
       "47010  in.stagram.com  instagram.com       False          1.0      0.020408   \n",
       "47011  inst.agram.com  instagram.com       False          1.0      0.071952   \n",
       "47012  insta.gram.com  instagram.com       False          1.0      0.048273   \n",
       "47013  instag.ram.com  instagram.com       False          1.0      0.042909   \n",
       "\n",
       "       Sorenson-Dice    Cosine          MSE       SSM       COS  \n",
       "0           0.000000  1.000000     0.000000  1.000000  0.000000  \n",
       "1           0.294118  0.843274  3573.467743  0.848874  0.516013  \n",
       "2           0.294118  0.843274  3562.883354  0.851078  0.551641  \n",
       "3           0.294118  0.843274  3576.705872  0.849858  0.531842  \n",
       "4           0.294118  0.843274  3890.821388  0.849594  0.937457  \n",
       "...              ...       ...          ...       ...       ...  \n",
       "47009       0.130435  0.880705  4724.995277  0.821886  0.839922  \n",
       "47010       0.217391  0.880705  4730.435272  0.820904  0.864847  \n",
       "47011       0.217391  0.880705  4727.817451  0.821145  0.848572  \n",
       "47012       0.217391  0.880705  4748.178596  0.821017  0.808987  \n",
       "47013       0.217391  0.880705  4728.070107  0.821479  0.757199  \n",
       "\n",
       "[47014 rows x 10 columns]"
      ]
     },
     "execution_count": 195,
     "metadata": {},
     "output_type": "execute_result"
    }
   ],
   "source": [
    "for index, row in twisted_df.iterrows():\n",
    "    create_image(row['Domain'])\n",
    "    create_image(row['Homograph'])\n",
    "    m, s = calculate_similarity(row['Domain'], row['Homograph'])\n",
    "    twisted_df.loc[index,'MSE'] = m\n",
    "    twisted_df.loc[index,'SSIM'] = s\n",
    "\n",
    "twisted_df\n"
   ]
  },
  {
   "attachments": {},
   "cell_type": "markdown",
   "metadata": {},
   "source": [
    "### Deep Learning"
   ]
  },
  {
   "cell_type": "code",
   "execution_count": 12,
   "metadata": {},
   "outputs": [
    {
     "name": "stderr",
     "output_type": "stream",
     "text": [
      "/opt/anaconda3/lib/python3.9/site-packages/torchvision/models/_utils.py:208: UserWarning: The parameter 'pretrained' is deprecated since 0.13 and may be removed in the future, please use 'weights' instead.\n",
      "  warnings.warn(\n",
      "/opt/anaconda3/lib/python3.9/site-packages/torchvision/models/_utils.py:223: UserWarning: Arguments other than a weight enum or `None` for 'weights' are deprecated since 0.13 and may be removed in the future. The current behavior is equivalent to passing `weights=ResNet18_Weights.IMAGENET1K_V1`. You can also use `weights=ResNet18_Weights.DEFAULT` to get the most up-to-date weights.\n",
      "  warnings.warn(msg)\n"
     ]
    },
    {
     "ename": "IndexError",
     "evalue": "Dimension out of range (expected to be in range of [-1, 0], but got 1)",
     "output_type": "error",
     "traceback": [
      "\u001b[0;31m---------------------------------------------------------------------------\u001b[0m",
      "\u001b[0;31mIndexError\u001b[0m                                Traceback (most recent call last)",
      "\u001b[0;32m/var/folders/x3/7twk98h15d59hbdjjl0xw9g40000gn/T/ipykernel_6436/1900516456.py\u001b[0m in \u001b[0;36m<module>\u001b[0;34m\u001b[0m\n\u001b[1;32m     41\u001b[0m \u001b[0;34m\u001b[0m\u001b[0m\n\u001b[1;32m     42\u001b[0m \u001b[0;32mfor\u001b[0m \u001b[0mindex\u001b[0m\u001b[0;34m,\u001b[0m \u001b[0mrow\u001b[0m \u001b[0;32min\u001b[0m \u001b[0mtwisted_df\u001b[0m\u001b[0;34m.\u001b[0m\u001b[0mhead\u001b[0m\u001b[0;34m(\u001b[0m\u001b[0;34m)\u001b[0m\u001b[0;34m.\u001b[0m\u001b[0miterrows\u001b[0m\u001b[0;34m(\u001b[0m\u001b[0;34m)\u001b[0m\u001b[0;34m:\u001b[0m\u001b[0;34m\u001b[0m\u001b[0;34m\u001b[0m\u001b[0m\n\u001b[0;32m---> 43\u001b[0;31m     \u001b[0mtwisted_df\u001b[0m\u001b[0;34m.\u001b[0m\u001b[0mloc\u001b[0m\u001b[0;34m[\u001b[0m\u001b[0mindex\u001b[0m\u001b[0;34m,\u001b[0m\u001b[0;34m'Swin'\u001b[0m\u001b[0;34m]\u001b[0m \u001b[0;34m=\u001b[0m \u001b[0mdl\u001b[0m\u001b[0;34m(\u001b[0m\u001b[0mrow\u001b[0m\u001b[0;34m[\u001b[0m\u001b[0;34m'Domain'\u001b[0m\u001b[0;34m]\u001b[0m\u001b[0;34m,\u001b[0m \u001b[0mrow\u001b[0m\u001b[0;34m[\u001b[0m\u001b[0;34m'Homograph'\u001b[0m\u001b[0;34m]\u001b[0m\u001b[0;34m)\u001b[0m\u001b[0;34m.\u001b[0m\u001b[0mitem\u001b[0m\u001b[0;34m(\u001b[0m\u001b[0;34m)\u001b[0m\u001b[0;34m\u001b[0m\u001b[0;34m\u001b[0m\u001b[0m\n\u001b[0m\u001b[1;32m     44\u001b[0m \u001b[0;34m\u001b[0m\u001b[0m\n",
      "\u001b[0;32m/var/folders/x3/7twk98h15d59hbdjjl0xw9g40000gn/T/ipykernel_6436/1900516456.py\u001b[0m in \u001b[0;36mdl\u001b[0;34m(i1, i2)\u001b[0m\n\u001b[1;32m     38\u001b[0m \u001b[0;34m\u001b[0m\u001b[0m\n\u001b[1;32m     39\u001b[0m     \u001b[0;31m# Calculate cosine similarity between image features\u001b[0m\u001b[0;34m\u001b[0m\u001b[0;34m\u001b[0m\u001b[0m\n\u001b[0;32m---> 40\u001b[0;31m     \u001b[0;32mreturn\u001b[0m  \u001b[0mtorch\u001b[0m\u001b[0;34m.\u001b[0m\u001b[0mnn\u001b[0m\u001b[0;34m.\u001b[0m\u001b[0mfunctional\u001b[0m\u001b[0;34m.\u001b[0m\u001b[0mcosine_similarity\u001b[0m\u001b[0;34m(\u001b[0m\u001b[0mtorch\u001b[0m\u001b[0;34m.\u001b[0m\u001b[0mtensor\u001b[0m\u001b[0;34m(\u001b[0m\u001b[0membeddings1\u001b[0m\u001b[0;34m)\u001b[0m\u001b[0;34m,\u001b[0m \u001b[0mtorch\u001b[0m\u001b[0;34m.\u001b[0m\u001b[0mtensor\u001b[0m\u001b[0;34m(\u001b[0m\u001b[0membeddings2\u001b[0m\u001b[0;34m)\u001b[0m\u001b[0;34m)\u001b[0m\u001b[0;34m\u001b[0m\u001b[0;34m\u001b[0m\u001b[0m\n\u001b[0m\u001b[1;32m     41\u001b[0m \u001b[0;34m\u001b[0m\u001b[0m\n\u001b[1;32m     42\u001b[0m \u001b[0;32mfor\u001b[0m \u001b[0mindex\u001b[0m\u001b[0;34m,\u001b[0m \u001b[0mrow\u001b[0m \u001b[0;32min\u001b[0m \u001b[0mtwisted_df\u001b[0m\u001b[0;34m.\u001b[0m\u001b[0mhead\u001b[0m\u001b[0;34m(\u001b[0m\u001b[0;34m)\u001b[0m\u001b[0;34m.\u001b[0m\u001b[0miterrows\u001b[0m\u001b[0;34m(\u001b[0m\u001b[0;34m)\u001b[0m\u001b[0;34m:\u001b[0m\u001b[0;34m\u001b[0m\u001b[0;34m\u001b[0m\u001b[0m\n",
      "\u001b[0;31mIndexError\u001b[0m: Dimension out of range (expected to be in range of [-1, 0], but got 1)"
     ]
    }
   ],
   "source": [
    "import torch\n",
    "import torch.nn as nn\n",
    "import torchvision.models as models\n",
    "from torchvision import transforms\n",
    "\n",
    "# Load the pre-trained ResNet18 model\n",
    "model = models.resnet18(pretrained=True)\n",
    "\n",
    "\n",
    "# Define the preprocessing steps\n",
    "preprocess = transforms.Compose([\n",
    "    transforms.Grayscale(num_output_channels=3),\n",
    "    transforms.ToTensor(),\n",
    "    transforms.Normalize(mean=[0.485, 0.456, 0.406], std=[0.229, 0.224, 0.225])\n",
    "])\n",
    "\n",
    "# Define a function to extract features from an image using the pre-trained model\n",
    "def extract_features(image):\n",
    "    # Preprocess the image\n",
    "    image = preprocess(image)\n",
    "    # Add a batch dimension\n",
    "    image = image.unsqueeze(0)\n",
    "    # Pass the image through the model\n",
    "    features = model(image)\n",
    "    # Remove the batch dimension and return the feature vector\n",
    "    return features.squeeze().detach().numpy()\n",
    "\n",
    "\n",
    "def dl(i1, i2):\n",
    "    \n",
    "    # Load images from local directory\n",
    "    image1 = Image.open(f'images/{i1}.jpeg').convert('L').resize((224, 224))\n",
    "    image2 = Image.open(f'images/{i2}.jpeg').convert('L').resize((224, 224))\n",
    "\n",
    "    # Apply transformations to images\n",
    "    embeddings1 = extract_features(image1)  # add batch dimension\n",
    "    embeddings2 = extract_features(image2)  # add batch dimension\n",
    "\n",
    "    # Calculate cosine similarity between image features\n",
    "    return  torch.nn.functional.cosine_similarity(torch.tensor(embeddings1), torch.tensor(embeddings2))\n",
    "    \n",
    "for index, row in twisted_df.head().iterrows():\n",
    "    twisted_df.loc[index,'Swin'] = dl(row['Domain'], row['Homograph']).item()\n",
    "    \n"
   ]
  },
  {
   "cell_type": "code",
   "execution_count": 1,
   "metadata": {},
   "outputs": [
    {
     "name": "stdout",
     "output_type": "stream",
     "text": [
      "Collecting package metadata (current_repodata.json): \\ ^C\n",
      "failed\n",
      "\n",
      "CondaError: KeyboardInterrupt\n",
      "\n",
      "\n",
      "Note: you may need to restart the kernel to use updated packages.\n"
     ]
    }
   ],
   "source": [
    "conda install numpy\n"
   ]
  },
  {
   "attachments": {},
   "cell_type": "markdown",
   "metadata": {},
   "source": [
    "### Single Value Classifiers"
   ]
  },
  {
   "cell_type": "code",
   "execution_count": 196,
   "metadata": {},
   "outputs": [],
   "source": [
    "twisted_df.to_csv('twisted_viz_sim_dl.csv')"
   ]
  },
  {
   "cell_type": "code",
   "execution_count": 2,
   "metadata": {},
   "outputs": [
    {
     "data": {
      "text/html": [
       "<div>\n",
       "<style scoped>\n",
       "    .dataframe tbody tr th:only-of-type {\n",
       "        vertical-align: middle;\n",
       "    }\n",
       "\n",
       "    .dataframe tbody tr th {\n",
       "        vertical-align: top;\n",
       "    }\n",
       "\n",
       "    .dataframe thead th {\n",
       "        text-align: right;\n",
       "    }\n",
       "</style>\n",
       "<table border=\"1\" class=\"dataframe\">\n",
       "  <thead>\n",
       "    <tr style=\"text-align: right;\">\n",
       "      <th></th>\n",
       "      <th>Homograph</th>\n",
       "      <th>Domain</th>\n",
       "      <th>Registered</th>\n",
       "      <th>Levenshtein</th>\n",
       "      <th>Jaro-Winkler</th>\n",
       "      <th>Sorenson-Dice</th>\n",
       "      <th>Cosine</th>\n",
       "      <th>MSE</th>\n",
       "      <th>SSM</th>\n",
       "    </tr>\n",
       "  </thead>\n",
       "  <tbody>\n",
       "    <tr>\n",
       "      <th>0</th>\n",
       "      <td>google.com</td>\n",
       "      <td>google.com</td>\n",
       "      <td>True</td>\n",
       "      <td>0.0</td>\n",
       "      <td>0.000000</td>\n",
       "      <td>0.000000</td>\n",
       "      <td>1.000000</td>\n",
       "      <td>0.000000</td>\n",
       "      <td>1.000000</td>\n",
       "    </tr>\n",
       "    <tr>\n",
       "      <th>1</th>\n",
       "      <td>google7.com</td>\n",
       "      <td>google.com</td>\n",
       "      <td>True</td>\n",
       "      <td>1.0</td>\n",
       "      <td>0.013774</td>\n",
       "      <td>0.294118</td>\n",
       "      <td>0.843274</td>\n",
       "      <td>3573.467743</td>\n",
       "      <td>0.848874</td>\n",
       "    </tr>\n",
       "    <tr>\n",
       "      <th>2</th>\n",
       "      <td>googlea.com</td>\n",
       "      <td>google.com</td>\n",
       "      <td>True</td>\n",
       "      <td>1.0</td>\n",
       "      <td>0.013774</td>\n",
       "      <td>0.294118</td>\n",
       "      <td>0.843274</td>\n",
       "      <td>3562.883354</td>\n",
       "      <td>0.851078</td>\n",
       "    </tr>\n",
       "    <tr>\n",
       "      <th>3</th>\n",
       "      <td>googled.com</td>\n",
       "      <td>google.com</td>\n",
       "      <td>True</td>\n",
       "      <td>1.0</td>\n",
       "      <td>0.013774</td>\n",
       "      <td>0.294118</td>\n",
       "      <td>0.843274</td>\n",
       "      <td>3576.705872</td>\n",
       "      <td>0.849858</td>\n",
       "    </tr>\n",
       "    <tr>\n",
       "      <th>4</th>\n",
       "      <td>googlej.com</td>\n",
       "      <td>google.com</td>\n",
       "      <td>True</td>\n",
       "      <td>1.0</td>\n",
       "      <td>0.013774</td>\n",
       "      <td>0.294118</td>\n",
       "      <td>0.843274</td>\n",
       "      <td>3890.821388</td>\n",
       "      <td>0.849594</td>\n",
       "    </tr>\n",
       "    <tr>\n",
       "      <th>...</th>\n",
       "      <td>...</td>\n",
       "      <td>...</td>\n",
       "      <td>...</td>\n",
       "      <td>...</td>\n",
       "      <td>...</td>\n",
       "      <td>...</td>\n",
       "      <td>...</td>\n",
       "      <td>...</td>\n",
       "      <td>...</td>\n",
       "    </tr>\n",
       "    <tr>\n",
       "      <th>47009</th>\n",
       "      <td>i.nstagram.com</td>\n",
       "      <td>instagram.com</td>\n",
       "      <td>False</td>\n",
       "      <td>1.0</td>\n",
       "      <td>0.022109</td>\n",
       "      <td>0.130435</td>\n",
       "      <td>0.880705</td>\n",
       "      <td>4724.995277</td>\n",
       "      <td>0.821886</td>\n",
       "    </tr>\n",
       "    <tr>\n",
       "      <th>47010</th>\n",
       "      <td>in.stagram.com</td>\n",
       "      <td>instagram.com</td>\n",
       "      <td>False</td>\n",
       "      <td>1.0</td>\n",
       "      <td>0.020408</td>\n",
       "      <td>0.217391</td>\n",
       "      <td>0.880705</td>\n",
       "      <td>4730.435272</td>\n",
       "      <td>0.820904</td>\n",
       "    </tr>\n",
       "    <tr>\n",
       "      <th>47011</th>\n",
       "      <td>inst.agram.com</td>\n",
       "      <td>instagram.com</td>\n",
       "      <td>False</td>\n",
       "      <td>1.0</td>\n",
       "      <td>0.071952</td>\n",
       "      <td>0.217391</td>\n",
       "      <td>0.880705</td>\n",
       "      <td>4727.817451</td>\n",
       "      <td>0.821145</td>\n",
       "    </tr>\n",
       "    <tr>\n",
       "      <th>47012</th>\n",
       "      <td>insta.gram.com</td>\n",
       "      <td>instagram.com</td>\n",
       "      <td>False</td>\n",
       "      <td>1.0</td>\n",
       "      <td>0.048273</td>\n",
       "      <td>0.217391</td>\n",
       "      <td>0.880705</td>\n",
       "      <td>4748.178596</td>\n",
       "      <td>0.821017</td>\n",
       "    </tr>\n",
       "    <tr>\n",
       "      <th>47013</th>\n",
       "      <td>instag.ram.com</td>\n",
       "      <td>instagram.com</td>\n",
       "      <td>False</td>\n",
       "      <td>1.0</td>\n",
       "      <td>0.042909</td>\n",
       "      <td>0.217391</td>\n",
       "      <td>0.880705</td>\n",
       "      <td>4728.070107</td>\n",
       "      <td>0.821479</td>\n",
       "    </tr>\n",
       "  </tbody>\n",
       "</table>\n",
       "<p>47014 rows × 9 columns</p>\n",
       "</div>"
      ],
      "text/plain": [
       "            Homograph         Domain  Registered  Levenshtein  Jaro-Winkler  \\\n",
       "0          google.com     google.com        True          0.0      0.000000   \n",
       "1         google7.com     google.com        True          1.0      0.013774   \n",
       "2         googlea.com     google.com        True          1.0      0.013774   \n",
       "3         googled.com     google.com        True          1.0      0.013774   \n",
       "4         googlej.com     google.com        True          1.0      0.013774   \n",
       "...               ...            ...         ...          ...           ...   \n",
       "47009  i.nstagram.com  instagram.com       False          1.0      0.022109   \n",
       "47010  in.stagram.com  instagram.com       False          1.0      0.020408   \n",
       "47011  inst.agram.com  instagram.com       False          1.0      0.071952   \n",
       "47012  insta.gram.com  instagram.com       False          1.0      0.048273   \n",
       "47013  instag.ram.com  instagram.com       False          1.0      0.042909   \n",
       "\n",
       "       Sorenson-Dice    Cosine          MSE       SSM  \n",
       "0           0.000000  1.000000     0.000000  1.000000  \n",
       "1           0.294118  0.843274  3573.467743  0.848874  \n",
       "2           0.294118  0.843274  3562.883354  0.851078  \n",
       "3           0.294118  0.843274  3576.705872  0.849858  \n",
       "4           0.294118  0.843274  3890.821388  0.849594  \n",
       "...              ...       ...          ...       ...  \n",
       "47009       0.130435  0.880705  4724.995277  0.821886  \n",
       "47010       0.217391  0.880705  4730.435272  0.820904  \n",
       "47011       0.217391  0.880705  4727.817451  0.821145  \n",
       "47012       0.217391  0.880705  4748.178596  0.821017  \n",
       "47013       0.217391  0.880705  4728.070107  0.821479  \n",
       "\n",
       "[47014 rows x 9 columns]"
      ]
     },
     "execution_count": 2,
     "metadata": {},
     "output_type": "execute_result"
    }
   ],
   "source": [
    "import pandas as pd\n",
    "twisted_df = pd.read_csv('twisted_viz_sim.csv', index_col=0)\n",
    "twisted_df"
   ]
  },
  {
   "cell_type": "code",
   "execution_count": 201,
   "metadata": {},
   "outputs": [],
   "source": [
    "from sklearn.metrics import accuracy_score, f1_score, precision_score, recall_score\n",
    "from sklearn.model_selection import StratifiedKFold\n",
    "from sklearn.tree import export_text, DecisionTreeClassifier\n",
    "import numpy as np"
   ]
  },
  {
   "cell_type": "code",
   "execution_count": 202,
   "metadata": {},
   "outputs": [],
   "source": [
    "# Functions for running and validating supervised classification models\n",
    "def model_eval(df, target, model):\n",
    "\n",
    "    kf = StratifiedKFold(n_splits=5, shuffle=True)\n",
    "\n",
    "    # Arrays to store metrics\n",
    "    recall = []\n",
    "    precision = []\n",
    "    f1 = []\n",
    "\n",
    "    for train_index, test_index in kf.split(df, target):\n",
    "        X_train, X_test = df.iloc[train_index], df.iloc[test_index]\n",
    "        y_train, y_test = target.iloc[train_index], target.iloc[test_index]\n",
    "        model.fit(X_train, y_train)\n",
    "\n",
    "        y_pred = model.predict(X_test)\n",
    "\n",
    "        recall += [recall_score(y_pred, y_test, average=\"weighted\", labels=[1])]\n",
    "        precision += [precision_score(y_pred, y_test, average=\"weighted\", labels=[1])]\n",
    "        f1 += [f1_score(y_pred, y_test, average=\"weighted\", labels=[1])]\n",
    "\n",
    "    print(\"precision = {:.4f} ±{:.4f}\".format(np.mean(precision), np.std(precision)))\n",
    "    print(\"recall    = {:.4f} ±{:.4f}\".format(np.mean(recall), np.std(recall)))\n",
    "    print(\"f1        = {:.4f} ±{:.4f}\".format(np.mean(f1), np.std(f1)))\n",
    "    #return np.mean(f1)"
   ]
  },
  {
   "cell_type": "code",
   "execution_count": 203,
   "metadata": {},
   "outputs": [
    {
     "name": "stdout",
     "output_type": "stream",
     "text": [
      "Levenshtein\n",
      "precision = 0.8099 ±0.0343\n",
      "recall    = 0.6706 ±0.0334\n",
      "f1        = 0.7322 ±0.0095\n",
      "\n",
      "|--- Levenshtein <= 2.5000000000\n",
      "|   |--- class: True\n",
      "|--- Levenshtein >  2.5000000000\n",
      "|   |--- class: False\n",
      "\n",
      "Jaro-Winkler\n",
      "precision = 0.8245 ±0.0165\n",
      "recall    = 0.6426 ±0.0239\n",
      "f1        = 0.7221 ±0.0185\n",
      "\n",
      "|--- Jaro-Winkler <= 0.1100206599\n",
      "|   |--- class: True\n",
      "|--- Jaro-Winkler >  0.1100206599\n",
      "|   |--- class: False\n",
      "\n",
      "Sorenson-Dice\n",
      "precision = 0.8114 ±0.0247\n",
      "recall    = 0.6450 ±0.0230\n",
      "f1        = 0.7183 ±0.0165\n",
      "\n",
      "|--- Sorenson-Dice <= 0.3798076957\n",
      "|   |--- class: True\n",
      "|--- Sorenson-Dice >  0.3798076957\n",
      "|   |--- class: False\n",
      "\n",
      "Cosine\n",
      "precision = 0.8292 ±0.0228\n",
      "recall    = 0.6627 ±0.0220\n",
      "f1        = 0.7365 ±0.0205\n",
      "\n",
      "|--- Cosine <= 0.7492276132\n",
      "|   |--- class: False\n",
      "|--- Cosine >  0.7492276132\n",
      "|   |--- class: True\n",
      "\n",
      "MSE\n",
      "precision = 0.6428 ±0.0144\n",
      "recall    = 0.5134 ±0.0118\n",
      "f1        = 0.5708 ±0.0125\n",
      "\n",
      "|--- MSE <= 3937.8059082031\n",
      "|   |--- class: True\n",
      "|--- MSE >  3937.8059082031\n",
      "|   |--- class: False\n",
      "\n",
      "SSM\n",
      "precision = 0.7166 ±0.0261\n",
      "recall    = 0.5890 ±0.0182\n",
      "f1        = 0.6464 ±0.0200\n",
      "\n",
      "|--- SSM <= 0.8319714069\n",
      "|   |--- class: False\n",
      "|--- SSM >  0.8319714069\n",
      "|   |--- class: True\n",
      "\n"
     ]
    }
   ],
   "source": [
    "# Add comment\n",
    "dt_model = DecisionTreeClassifier(random_state=42, max_depth=1)\n",
    "features = twisted_df.drop(['Domain', 'Homograph', 'Registered'], axis=1)\n",
    "for col in features.columns:\n",
    "    print (col)\n",
    "    model_eval(twisted_df[[col]], twisted_df['Registered'] , dt_model)\n",
    "    print()\n",
    "    print(export_text(dt_model, feature_names=[col], decimals=10))\n"
   ]
  },
  {
   "cell_type": "code",
   "execution_count": null,
   "metadata": {},
   "outputs": [],
   "source": []
  }
 ],
 "metadata": {
  "kernelspec": {
   "display_name": "base",
   "language": "python",
   "name": "python3"
  },
  "language_info": {
   "codemirror_mode": {
    "name": "ipython",
    "version": 3
   },
   "file_extension": ".py",
   "mimetype": "text/x-python",
   "name": "python",
   "nbconvert_exporter": "python",
   "pygments_lexer": "ipython3",
   "version": "3.9.7"
  },
  "orig_nbformat": 4,
  "vscode": {
   "interpreter": {
    "hash": "40d3a090f54c6569ab1632332b64b2c03c39dcf918b08424e98f38b5ae0af88f"
   }
  }
 },
 "nbformat": 4,
 "nbformat_minor": 2
}
