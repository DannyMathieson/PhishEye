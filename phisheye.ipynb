{
 "cells": [
  {
   "cell_type": "markdown",
   "metadata": {},
   "source": [
    "# PhishEye"
   ]
  },
  {
   "cell_type": "code",
   "execution_count": 1,
   "metadata": {},
   "outputs": [
    {
     "name": "stdout",
     "output_type": "stream",
     "text": [
      "Requirement already satisfied: dnstwist in /opt/anaconda3/lib/python3.9/site-packages (20221213)\n",
      "Note: you may need to restart the kernel to use updated packages.\n"
     ]
    }
   ],
   "source": [
    "pip install dnstwist"
   ]
  },
  {
   "cell_type": "code",
   "execution_count": 2,
   "metadata": {},
   "outputs": [
    {
     "name": "stdout",
     "output_type": "stream",
     "text": [
      "Requirement already satisfied: DNSPython in /opt/anaconda3/lib/python3.9/site-packages (2.3.0)\n",
      "Note: you may need to restart the kernel to use updated packages.\n"
     ]
    }
   ],
   "source": [
    "pip install DNSPython"
   ]
  },
  {
   "cell_type": "code",
   "execution_count": 3,
   "metadata": {},
   "outputs": [],
   "source": [
    "import pandas as pd"
   ]
  },
  {
   "cell_type": "code",
   "execution_count": 4,
   "metadata": {},
   "outputs": [
    {
     "data": {
      "text/plain": [
       "2158"
      ]
     },
     "execution_count": 4,
     "metadata": {},
     "output_type": "execute_result"
    }
   ],
   "source": [
    "import dnstwist\n",
    "fuzz = dnstwist.Fuzzer(\"www.google.com\")\n",
    "fuzz.generate()\n",
    "len(fuzz.permutations())"
   ]
  },
  {
   "cell_type": "code",
   "execution_count": 5,
   "metadata": {},
   "outputs": [],
   "source": [
    "data = dnstwist.run(domain='google.com', registered=True, format='null')\n",
    "reg = [d['domain'] for d in data]\n"
   ]
  },
  {
   "cell_type": "code",
   "execution_count": 6,
   "metadata": {},
   "outputs": [],
   "source": [
    "data_non = dnstwist.run(domain='google.com', unregistered=True, format='null')\n",
    "nonreg = [d['domain'] for d in data_non]\n"
   ]
  },
  {
   "cell_type": "code",
   "execution_count": 7,
   "metadata": {},
   "outputs": [
    {
     "data": {
      "text/plain": [
       "[]"
      ]
     },
     "execution_count": 7,
     "metadata": {},
     "output_type": "execute_result"
    }
   ],
   "source": [
    "def intersection(lst1, lst2):\n",
    "    return list(set(lst1) & set(lst2))\n",
    "\n",
    "intersection(reg, nonreg)"
   ]
  },
  {
   "cell_type": "code",
   "execution_count": 8,
   "metadata": {},
   "outputs": [
    {
     "name": "stdout",
     "output_type": "stream",
     "text": [
      "The number of registered permutations is: 261\n",
      "The number of non registered permutations is: 1895\n"
     ]
    }
   ],
   "source": [
    "print (f'The number of registered permutations is: {len(reg)}')\n",
    "print (f'The number of non registered permutations is: {len(nonreg)}')\n"
   ]
  },
  {
   "cell_type": "code",
   "execution_count": 9,
   "metadata": {},
   "outputs": [
    {
     "name": "stdout",
     "output_type": "stream",
     "text": [
      "['google.com', 'googlew.com', 'google3.com', 'coogle.com', 'googlg.com', 'xn--googe-7nc.com', 'xn--oole-z7bc.com', 'xn--oole-cxa78i.com', 'g0og1e.com', 'xn--googl-lsa.com', 'goog1e.com', 'g-oogle.com', 'googfle.com', 'goopgle.com', 'googl.com', 'toogle.com', 'gooyle.com', 'gaogle.com']\n",
      "['g00qle.com', 'xn--ggl-c7aa23f.com', 'xn--gle-bgb47aa.com', 'xn--goge-i9b8074b.com', 'xn--gogl-opa8b.com', 'xn--gole-msb8245b.com', 'xn--gooie-y1a.com', 'xn--goqle-f91b.com', 'xn--ogle-ksb0345b.com', 'xn--ole-kob7wc.com', 'xn--oogl-eva18j.com', 'xn--ool-era05hca.com', 'xn--ooqle-71a.com']\n"
     ]
    }
   ],
   "source": [
    "print (reg[::15])\n",
    "print (nonreg[::150])"
   ]
  },
  {
   "cell_type": "code",
   "execution_count": 10,
   "metadata": {},
   "outputs": [
    {
     "data": {
      "text/plain": [
       "2"
      ]
     },
     "execution_count": 10,
     "metadata": {},
     "output_type": "execute_result"
    }
   ],
   "source": [
    "import Levenshtein as lev\n",
    "lev.distance(reg[0], nonreg[1])"
   ]
  },
  {
   "cell_type": "code",
   "execution_count": 11,
   "metadata": {},
   "outputs": [
    {
     "data": {
      "text/plain": [
       "'google.com'"
      ]
     },
     "execution_count": 11,
     "metadata": {},
     "output_type": "execute_result"
    }
   ],
   "source": [
    "reg[0]"
   ]
  },
  {
   "cell_type": "code",
   "execution_count": 12,
   "metadata": {},
   "outputs": [
    {
     "data": {
      "text/plain": [
       "'g00qle.com'"
      ]
     },
     "execution_count": 12,
     "metadata": {},
     "output_type": "execute_result"
    }
   ],
   "source": [
    "nonreg[0]"
   ]
  },
  {
   "cell_type": "code",
   "execution_count": 13,
   "metadata": {},
   "outputs": [
    {
     "data": {
      "text/html": [
       "<div>\n",
       "<style scoped>\n",
       "    .dataframe tbody tr th:only-of-type {\n",
       "        vertical-align: middle;\n",
       "    }\n",
       "\n",
       "    .dataframe tbody tr th {\n",
       "        vertical-align: top;\n",
       "    }\n",
       "\n",
       "    .dataframe thead th {\n",
       "        text-align: right;\n",
       "    }\n",
       "</style>\n",
       "<table border=\"1\" class=\"dataframe\">\n",
       "  <thead>\n",
       "    <tr style=\"text-align: right;\">\n",
       "      <th></th>\n",
       "      <th>1</th>\n",
       "    </tr>\n",
       "    <tr>\n",
       "      <th>0</th>\n",
       "      <th></th>\n",
       "    </tr>\n",
       "  </thead>\n",
       "  <tbody>\n",
       "    <tr>\n",
       "      <th>1</th>\n",
       "      <td>google.com</td>\n",
       "    </tr>\n",
       "    <tr>\n",
       "      <th>2</th>\n",
       "      <td>facebook.com</td>\n",
       "    </tr>\n",
       "    <tr>\n",
       "      <th>3</th>\n",
       "      <td>a-msedge.net</td>\n",
       "    </tr>\n",
       "    <tr>\n",
       "      <th>4</th>\n",
       "      <td>youtube.com</td>\n",
       "    </tr>\n",
       "    <tr>\n",
       "      <th>5</th>\n",
       "      <td>amazonaws.com</td>\n",
       "    </tr>\n",
       "  </tbody>\n",
       "</table>\n",
       "</div>"
      ],
      "text/plain": [
       "               1\n",
       "0               \n",
       "1     google.com\n",
       "2   facebook.com\n",
       "3   a-msedge.net\n",
       "4    youtube.com\n",
       "5  amazonaws.com"
      ]
     },
     "execution_count": 13,
     "metadata": {},
     "output_type": "execute_result"
    }
   ],
   "source": [
    "domains_df = pd.read_csv('./top-1m.csv', header=None, index_col=0)\n",
    "domains_df.head()"
   ]
  },
  {
   "cell_type": "code",
   "execution_count": 14,
   "metadata": {},
   "outputs": [
    {
     "data": {
      "text/plain": [
       "{'google.com': 262,\n",
       " 'facebook.com': 252,\n",
       " 'a-msedge.net': 12,\n",
       " 'youtube.com': 243,\n",
       " 'amazonaws.com': 171,\n",
       " 'microsoft.com': 267,\n",
       " 'twitter.com': 220,\n",
       " 'akamaiedge.net': 52,\n",
       " 'baidu.com': 153,\n",
       " 'instagram.com': 275}"
      ]
     },
     "execution_count": 14,
     "metadata": {},
     "output_type": "execute_result"
    }
   ],
   "source": [
    "def get_dicts(domain_list):\n",
    "    reg_dict, nonreg_dict = {}, {}\n",
    "    for domain in domain_list:\n",
    "        data_reg = dnstwist.run(domain=f'{domain}', registered=True, format='null')\n",
    "        reg = [d['domain'] for d in data_reg]\n",
    "        reg_dict[domain]  = len(reg)\n",
    "        data_nonreg = dnstwist.run(domain=f'{domain}', unregistered=True, format='null')\n",
    "        nonreg = [d['domain'] for d in data_nonreg]\n",
    "        nonreg_dict[domain]  = len(nonreg)\n",
    "    return reg_dict, nonreg_dict\n",
    "eda_reg, eda_nonreg = get_dicts(list(domains_df[1].values[:10]))\n",
    "eda_reg\n"
   ]
  },
  {
   "cell_type": "code",
   "execution_count": 15,
   "metadata": {},
   "outputs": [
    {
     "data": {
      "image/png": "[encoded data removed]",
      "text/plain": [
       "<Figure size 432x288 with 1 Axes>"
      ]
     },
     "metadata": {
      "needs_background": "light"
     },
     "output_type": "display_data"
    }
   ],
   "source": [
    "\n",
    "import numpy as np \n",
    "import matplotlib.pyplot as plt \n",
    "  \n",
    "x = list(eda_reg.keys())\n",
    "Yreg = list(eda_reg.values())\n",
    "Znonreg= list(eda_nonreg.values())\n",
    "X_axis = np.arange(len(x))\n",
    "  \n",
    "plt.bar(x, Znonreg, color='steelblue')\n",
    "plt.bar(x, Yreg, bottom=Znonreg, color='darkorange')\n",
    "  \n",
    "plt.xlabel(\"Domains\")\n",
    "plt.ylabel(\"Number of Permutations\")\n",
    "plt.title(\"Number of Registered and Non Registered Domain Permutations\")\n",
    "plt.xticks(rotation=30)\n",
    "\n",
    "plt.legend(labels = ['Non Registered: Benign', 'Registered: Malicious'])\n",
    "plt.show()"
   ]
  },
  {
   "cell_type": "code",
   "execution_count": 24,
   "metadata": {},
   "outputs": [],
   "source": [
    "def create_twist_dict(domains):\n",
    "    twist_dict = {}\n",
    "    for domain in domains:\n",
    "        twist_dict[domain] = [[],[]]\n",
    "        data_reg = dnstwist.run(domain=f'{domain}', registered=True, format='null')\n",
    "        reg = [d['domain'] for d in data_reg]\n",
    "        twist_dict[domain][1] = reg\n",
    "\n",
    "        data_nonreg = dnstwist.run(domain=f'{domain}', unregistered=True, format='null')\n",
    "        nonreg = [d['domain'] for d in data_nonreg]\n",
    "        twist_dict[domain][0] = nonreg\n",
    "    return twist_dict\n",
    "\n",
    "twisted_dict = create_twist_dict(list(domains_df[1].values[:100]))"
   ]
  },
  {
   "cell_type": "code",
   "execution_count": 26,
   "metadata": {},
   "outputs": [
    {
     "data": {
      "text/plain": [
       "dict_keys(['google.com', 'facebook.com', 'a-msedge.net', 'youtube.com', 'amazonaws.com', 'microsoft.com', 'twitter.com', 'akamaiedge.net', 'baidu.com', 'instagram.com', 'netflix.com', 'cloudflare.com', 'apple.com', 'linkedin.com', 'bilibili.com', 'wikipedia.org', 'qq.com', 'live.com', 'akamai.net', 'amazon.com', 'gtld-servers.net', 'azure.com', 'yahoo.com', 'googletagmanager.com', 'zhihu.com', 'l-msedge.net', 'bing.com', 'googlevideo.com', 'github.com', 'domaincontrol.com', 'reddit.com', 'pinterest.com', 'wordpress.org', 'whatsapp.com', 'office.com', 'doubleclick.net', 'youtu.be', 's-msedge.net', 'windowsupdate.com', 'fastly.net', 'zoom.us', 'microsoftonline.com', 'mail.ru', 'akadns.net', 'nflxso.net', 'yandex.ru', 'adobe.com', 'vimeo.com', 'googleusercontent.com', 'openai.com', 'trafficmanager.net', 'fdv2-t-msedge.net', 'gandi.net', 'wordpress.com', 'goo.gl', 'taobao.com', 'sharepoint.com', 'intuit.com', '163.com', 'bit.ly', 'vk.com', 'windows.net', 'apple-dns.net', 't.co', 'tiktok.com', 'cloudapp.net', 'googledomains.com', 'aaplimg.com', 'msn.com', 'netflix.net', 'google-analytics.com', 'xvideos.com', 'mozilla.org', 'office365.com', 'weibo.com', 'blogspot.com', 'edgekey.net', 'pornhub.com', 'algolia.net', 'spotify.com', 'cloudflare.net', 'tumblr.com', 'line-apps.com', 'paypal.com', 'icloud.com', 'nih.gov', 'jd.com', 'macromedia.com', 'msedge.net', 'myfritz.net', 'skype.com', 'b-msedge.net', 'yandex.net', 'canva.com', 'europa.eu', 'nic.ru', 'nytimes.com', 'dropbox.com', 'google.com.hk', 'fandom.com'])"
      ]
     },
     "execution_count": 26,
     "metadata": {},
     "output_type": "execute_result"
    }
   ],
   "source": [
    "twisted_dict.keys()"
   ]
  },
  {
   "cell_type": "code",
   "execution_count": 47,
   "metadata": {},
   "outputs": [
    {
     "data": {
      "text/html": [
       "<div>\n",
       "<style scoped>\n",
       "    .dataframe tbody tr th:only-of-type {\n",
       "        vertical-align: middle;\n",
       "    }\n",
       "\n",
       "    .dataframe tbody tr th {\n",
       "        vertical-align: top;\n",
       "    }\n",
       "\n",
       "    .dataframe thead th {\n",
       "        text-align: right;\n",
       "    }\n",
       "</style>\n",
       "<table border=\"1\" class=\"dataframe\">\n",
       "  <thead>\n",
       "    <tr style=\"text-align: right;\">\n",
       "      <th></th>\n",
       "      <th>Domain</th>\n",
       "      <th>NonReg</th>\n",
       "      <th>Reg</th>\n",
       "    </tr>\n",
       "  </thead>\n",
       "  <tbody>\n",
       "    <tr>\n",
       "      <th>0</th>\n",
       "      <td>google.com</td>\n",
       "      <td>[g00qle.com, g0oglc.com, go0glc.com, gooq1e.co...</td>\n",
       "      <td>[google.com, google7.com, googlea.com, googled...</td>\n",
       "    </tr>\n",
       "    <tr>\n",
       "      <th>1</th>\n",
       "      <td>facebook.com</td>\n",
       "      <td>[facebook7.com, faccb00k.com, faccb0ok.com, fa...</td>\n",
       "      <td>[facebook.com, facebook3.com, facebookk.com, f...</td>\n",
       "    </tr>\n",
       "    <tr>\n",
       "      <th>2</th>\n",
       "      <td>a-msedge.net</td>\n",
       "      <td>[a-msedge0.net, a-msedge1.net, a-msedge2.net, ...</td>\n",
       "      <td>[a-msedge.net, i-msedge.net, c-msedge.net, e-m...</td>\n",
       "    </tr>\n",
       "    <tr>\n",
       "      <th>3</th>\n",
       "      <td>youtube.com</td>\n",
       "      <td>[ymutube.com, xn--0utube-977b.com, xn--0utube-...</td>\n",
       "      <td>[youtube.com, youtube2.com, youtubea.com, yout...</td>\n",
       "    </tr>\n",
       "    <tr>\n",
       "      <th>4</th>\n",
       "      <td>amazonaws.com</td>\n",
       "      <td>[amazonaws0.com, amazonaws1.com, amazonaws3.co...</td>\n",
       "      <td>[amazonaws.com, amazonawso.com, amazonaws2.com...</td>\n",
       "    </tr>\n",
       "    <tr>\n",
       "      <th>...</th>\n",
       "      <td>...</td>\n",
       "      <td>...</td>\n",
       "      <td>...</td>\n",
       "    </tr>\n",
       "    <tr>\n",
       "      <th>95</th>\n",
       "      <td>nic.ru</td>\n",
       "      <td>[nic0.ru, nic2.ru, nic3.ru, nic4.ru, nic5.ru, ...</td>\n",
       "      <td>[nic.ru, nici.ru, nica.ru, nicw.ru, nicr.ru, n...</td>\n",
       "    </tr>\n",
       "    <tr>\n",
       "      <th>96</th>\n",
       "      <td>nytimes.com</td>\n",
       "      <td>[nytimes0.com, nytimes1.com, nytimes3.com, nyt...</td>\n",
       "      <td>[nytimes.com, nytimesw.com, nytimesu.com, nyti...</td>\n",
       "    </tr>\n",
       "    <tr>\n",
       "      <th>97</th>\n",
       "      <td>dropbox.com</td>\n",
       "      <td>[dropbox0.com, dropbox3.com, dropbox4.com, dro...</td>\n",
       "      <td>[dropbox.com, dropboxe.com, dropboxx.com, drop...</td>\n",
       "    </tr>\n",
       "    <tr>\n",
       "      <th>98</th>\n",
       "      <td>google.com.hk</td>\n",
       "      <td>[google0.com.hk, google1.com.hk, google2.com.h...</td>\n",
       "      <td>[google.com.hk, goggle.com.hk, googie.com.hk, ...</td>\n",
       "    </tr>\n",
       "    <tr>\n",
       "      <th>99</th>\n",
       "      <td>fandom.com</td>\n",
       "      <td>[fandom0.com, fandom1.com, fandom3.com, fandom...</td>\n",
       "      <td>[fandom.com, fandomn.com, fandomj.com, fandomk...</td>\n",
       "    </tr>\n",
       "  </tbody>\n",
       "</table>\n",
       "<p>100 rows × 3 columns</p>\n",
       "</div>"
      ],
      "text/plain": [
       "           Domain                                             NonReg  \\\n",
       "0      google.com  [g00qle.com, g0oglc.com, go0glc.com, gooq1e.co...   \n",
       "1    facebook.com  [facebook7.com, faccb00k.com, faccb0ok.com, fa...   \n",
       "2    a-msedge.net  [a-msedge0.net, a-msedge1.net, a-msedge2.net, ...   \n",
       "3     youtube.com  [ymutube.com, xn--0utube-977b.com, xn--0utube-...   \n",
       "4   amazonaws.com  [amazonaws0.com, amazonaws1.com, amazonaws3.co...   \n",
       "..            ...                                                ...   \n",
       "95         nic.ru  [nic0.ru, nic2.ru, nic3.ru, nic4.ru, nic5.ru, ...   \n",
       "96    nytimes.com  [nytimes0.com, nytimes1.com, nytimes3.com, nyt...   \n",
       "97    dropbox.com  [dropbox0.com, dropbox3.com, dropbox4.com, dro...   \n",
       "98  google.com.hk  [google0.com.hk, google1.com.hk, google2.com.h...   \n",
       "99     fandom.com  [fandom0.com, fandom1.com, fandom3.com, fandom...   \n",
       "\n",
       "                                                  Reg  \n",
       "0   [google.com, google7.com, googlea.com, googled...  \n",
       "1   [facebook.com, facebook3.com, facebookk.com, f...  \n",
       "2   [a-msedge.net, i-msedge.net, c-msedge.net, e-m...  \n",
       "3   [youtube.com, youtube2.com, youtubea.com, yout...  \n",
       "4   [amazonaws.com, amazonawso.com, amazonaws2.com...  \n",
       "..                                                ...  \n",
       "95  [nic.ru, nici.ru, nica.ru, nicw.ru, nicr.ru, n...  \n",
       "96  [nytimes.com, nytimesw.com, nytimesu.com, nyti...  \n",
       "97  [dropbox.com, dropboxe.com, dropboxx.com, drop...  \n",
       "98  [google.com.hk, goggle.com.hk, googie.com.hk, ...  \n",
       "99  [fandom.com, fandomn.com, fandomj.com, fandomk...  \n",
       "\n",
       "[100 rows x 3 columns]"
      ]
     },
     "execution_count": 47,
     "metadata": {},
     "output_type": "execute_result"
    }
   ],
   "source": [
    "twisted_df = pd.DataFrame.from_dict(twisted_dict, orient='index').reset_index()\n",
    "twisted_df.columns = ['Domain', 'NonReg', 'Reg']\n",
    "twisted_df\n"
   ]
  },
  {
   "cell_type": "code",
   "execution_count": 48,
   "metadata": {},
   "outputs": [
    {
     "data": {
      "text/html": [
       "<div>\n",
       "<style scoped>\n",
       "    .dataframe tbody tr th:only-of-type {\n",
       "        vertical-align: middle;\n",
       "    }\n",
       "\n",
       "    .dataframe tbody tr th {\n",
       "        vertical-align: top;\n",
       "    }\n",
       "\n",
       "    .dataframe thead th {\n",
       "        text-align: right;\n",
       "    }\n",
       "</style>\n",
       "<table border=\"1\" class=\"dataframe\">\n",
       "  <thead>\n",
       "    <tr style=\"text-align: right;\">\n",
       "      <th></th>\n",
       "      <th>Domain</th>\n",
       "      <th>NonReg</th>\n",
       "      <th>Reg</th>\n",
       "    </tr>\n",
       "  </thead>\n",
       "  <tbody>\n",
       "    <tr>\n",
       "      <th>0</th>\n",
       "      <td>google.com</td>\n",
       "      <td>[g00qle.com, g0oglc.com, go0glc.com, gooq1e.co...</td>\n",
       "      <td>[google.com, google7.com, googlea.com, googled...</td>\n",
       "    </tr>\n",
       "    <tr>\n",
       "      <th>1</th>\n",
       "      <td>facebook.com</td>\n",
       "      <td>[facebook7.com, faccb00k.com, faccb0ok.com, fa...</td>\n",
       "      <td>[facebook.com, facebook3.com, facebookk.com, f...</td>\n",
       "    </tr>\n",
       "    <tr>\n",
       "      <th>2</th>\n",
       "      <td>a-msedge.net</td>\n",
       "      <td>[a-msedge0.net, a-msedge1.net, a-msedge2.net, ...</td>\n",
       "      <td>[a-msedge.net, i-msedge.net, c-msedge.net, e-m...</td>\n",
       "    </tr>\n",
       "    <tr>\n",
       "      <th>3</th>\n",
       "      <td>youtube.com</td>\n",
       "      <td>[ymutube.com, xn--0utube-977b.com, xn--0utube-...</td>\n",
       "      <td>[youtube.com, youtube2.com, youtubea.com, yout...</td>\n",
       "    </tr>\n",
       "    <tr>\n",
       "      <th>4</th>\n",
       "      <td>amazonaws.com</td>\n",
       "      <td>[amazonaws0.com, amazonaws1.com, amazonaws3.co...</td>\n",
       "      <td>[amazonaws.com, amazonawso.com, amazonaws2.com...</td>\n",
       "    </tr>\n",
       "    <tr>\n",
       "      <th>...</th>\n",
       "      <td>...</td>\n",
       "      <td>...</td>\n",
       "      <td>...</td>\n",
       "    </tr>\n",
       "    <tr>\n",
       "      <th>95</th>\n",
       "      <td>nic.ru</td>\n",
       "      <td>[nic0.ru, nic2.ru, nic3.ru, nic4.ru, nic5.ru, ...</td>\n",
       "      <td>[nic.ru, nici.ru, nica.ru, nicw.ru, nicr.ru, n...</td>\n",
       "    </tr>\n",
       "    <tr>\n",
       "      <th>96</th>\n",
       "      <td>nytimes.com</td>\n",
       "      <td>[nytimes0.com, nytimes1.com, nytimes3.com, nyt...</td>\n",
       "      <td>[nytimes.com, nytimesw.com, nytimesu.com, nyti...</td>\n",
       "    </tr>\n",
       "    <tr>\n",
       "      <th>97</th>\n",
       "      <td>dropbox.com</td>\n",
       "      <td>[dropbox0.com, dropbox3.com, dropbox4.com, dro...</td>\n",
       "      <td>[dropbox.com, dropboxe.com, dropboxx.com, drop...</td>\n",
       "    </tr>\n",
       "    <tr>\n",
       "      <th>98</th>\n",
       "      <td>google.com.hk</td>\n",
       "      <td>[google0.com.hk, google1.com.hk, google2.com.h...</td>\n",
       "      <td>[google.com.hk, goggle.com.hk, googie.com.hk, ...</td>\n",
       "    </tr>\n",
       "    <tr>\n",
       "      <th>99</th>\n",
       "      <td>fandom.com</td>\n",
       "      <td>[fandom0.com, fandom1.com, fandom3.com, fandom...</td>\n",
       "      <td>[fandom.com, fandomn.com, fandomj.com, fandomk...</td>\n",
       "    </tr>\n",
       "  </tbody>\n",
       "</table>\n",
       "<p>100 rows × 3 columns</p>\n",
       "</div>"
      ],
      "text/plain": [
       "           Domain                                             NonReg  \\\n",
       "0      google.com  [g00qle.com, g0oglc.com, go0glc.com, gooq1e.co...   \n",
       "1    facebook.com  [facebook7.com, faccb00k.com, faccb0ok.com, fa...   \n",
       "2    a-msedge.net  [a-msedge0.net, a-msedge1.net, a-msedge2.net, ...   \n",
       "3     youtube.com  [ymutube.com, xn--0utube-977b.com, xn--0utube-...   \n",
       "4   amazonaws.com  [amazonaws0.com, amazonaws1.com, amazonaws3.co...   \n",
       "..            ...                                                ...   \n",
       "95         nic.ru  [nic0.ru, nic2.ru, nic3.ru, nic4.ru, nic5.ru, ...   \n",
       "96    nytimes.com  [nytimes0.com, nytimes1.com, nytimes3.com, nyt...   \n",
       "97    dropbox.com  [dropbox0.com, dropbox3.com, dropbox4.com, dro...   \n",
       "98  google.com.hk  [google0.com.hk, google1.com.hk, google2.com.h...   \n",
       "99     fandom.com  [fandom0.com, fandom1.com, fandom3.com, fandom...   \n",
       "\n",
       "                                                  Reg  \n",
       "0   [google.com, google7.com, googlea.com, googled...  \n",
       "1   [facebook.com, facebook3.com, facebookk.com, f...  \n",
       "2   [a-msedge.net, i-msedge.net, c-msedge.net, e-m...  \n",
       "3   [youtube.com, youtube2.com, youtubea.com, yout...  \n",
       "4   [amazonaws.com, amazonawso.com, amazonaws2.com...  \n",
       "..                                                ...  \n",
       "95  [nic.ru, nici.ru, nica.ru, nicw.ru, nicr.ru, n...  \n",
       "96  [nytimes.com, nytimesw.com, nytimesu.com, nyti...  \n",
       "97  [dropbox.com, dropboxe.com, dropboxx.com, drop...  \n",
       "98  [google.com.hk, goggle.com.hk, googie.com.hk, ...  \n",
       "99  [fandom.com, fandomn.com, fandomj.com, fandomk...  \n",
       "\n",
       "[100 rows x 3 columns]"
      ]
     },
     "execution_count": 48,
     "metadata": {},
     "output_type": "execute_result"
    }
   ],
   "source": [
    "twisted_df"
   ]
  },
  {
   "cell_type": "code",
   "execution_count": 49,
   "metadata": {},
   "outputs": [],
   "source": [
    "twisted_df.to_csv('twisted.csv')"
   ]
  },
  {
   "cell_type": "code",
   "execution_count": 51,
   "metadata": {},
   "outputs": [
    {
     "data": {
      "text/html": [
       "<div>\n",
       "<style scoped>\n",
       "    .dataframe tbody tr th:only-of-type {\n",
       "        vertical-align: middle;\n",
       "    }\n",
       "\n",
       "    .dataframe tbody tr th {\n",
       "        vertical-align: top;\n",
       "    }\n",
       "\n",
       "    .dataframe thead th {\n",
       "        text-align: right;\n",
       "    }\n",
       "</style>\n",
       "<table border=\"1\" class=\"dataframe\">\n",
       "  <thead>\n",
       "    <tr style=\"text-align: right;\">\n",
       "      <th></th>\n",
       "      <th>Domain</th>\n",
       "      <th>NonReg</th>\n",
       "      <th>Reg</th>\n",
       "    </tr>\n",
       "  </thead>\n",
       "  <tbody>\n",
       "    <tr>\n",
       "      <th>0</th>\n",
       "      <td>google.com</td>\n",
       "      <td>['g00qle.com', 'g0oglc.com', 'go0glc.com', 'go...</td>\n",
       "      <td>['google.com', 'google7.com', 'googlea.com', '...</td>\n",
       "    </tr>\n",
       "    <tr>\n",
       "      <th>1</th>\n",
       "      <td>facebook.com</td>\n",
       "      <td>['facebook7.com', 'faccb00k.com', 'faccb0ok.co...</td>\n",
       "      <td>['facebook.com', 'facebook3.com', 'facebookk.c...</td>\n",
       "    </tr>\n",
       "    <tr>\n",
       "      <th>2</th>\n",
       "      <td>a-msedge.net</td>\n",
       "      <td>['a-msedge0.net', 'a-msedge1.net', 'a-msedge2....</td>\n",
       "      <td>['a-msedge.net', 'i-msedge.net', 'c-msedge.net...</td>\n",
       "    </tr>\n",
       "    <tr>\n",
       "      <th>3</th>\n",
       "      <td>youtube.com</td>\n",
       "      <td>['ymutube.com', 'xn--0utube-977b.com', 'xn--0u...</td>\n",
       "      <td>['youtube.com', 'youtube2.com', 'youtubea.com'...</td>\n",
       "    </tr>\n",
       "    <tr>\n",
       "      <th>4</th>\n",
       "      <td>amazonaws.com</td>\n",
       "      <td>['amazonaws0.com', 'amazonaws1.com', 'amazonaw...</td>\n",
       "      <td>['amazonaws.com', 'amazonawso.com', 'amazonaws...</td>\n",
       "    </tr>\n",
       "    <tr>\n",
       "      <th>...</th>\n",
       "      <td>...</td>\n",
       "      <td>...</td>\n",
       "      <td>...</td>\n",
       "    </tr>\n",
       "    <tr>\n",
       "      <th>95</th>\n",
       "      <td>nic.ru</td>\n",
       "      <td>['nic0.ru', 'nic2.ru', 'nic3.ru', 'nic4.ru', '...</td>\n",
       "      <td>['nic.ru', 'nici.ru', 'nica.ru', 'nicw.ru', 'n...</td>\n",
       "    </tr>\n",
       "    <tr>\n",
       "      <th>96</th>\n",
       "      <td>nytimes.com</td>\n",
       "      <td>['nytimes0.com', 'nytimes1.com', 'nytimes3.com...</td>\n",
       "      <td>['nytimes.com', 'nytimesw.com', 'nytimesu.com'...</td>\n",
       "    </tr>\n",
       "    <tr>\n",
       "      <th>97</th>\n",
       "      <td>dropbox.com</td>\n",
       "      <td>['dropbox0.com', 'dropbox3.com', 'dropbox4.com...</td>\n",
       "      <td>['dropbox.com', 'dropboxe.com', 'dropboxx.com'...</td>\n",
       "    </tr>\n",
       "    <tr>\n",
       "      <th>98</th>\n",
       "      <td>google.com.hk</td>\n",
       "      <td>['google0.com.hk', 'google1.com.hk', 'google2....</td>\n",
       "      <td>['google.com.hk', 'goggle.com.hk', 'googie.com...</td>\n",
       "    </tr>\n",
       "    <tr>\n",
       "      <th>99</th>\n",
       "      <td>fandom.com</td>\n",
       "      <td>['fandom0.com', 'fandom1.com', 'fandom3.com', ...</td>\n",
       "      <td>['fandom.com', 'fandomn.com', 'fandomj.com', '...</td>\n",
       "    </tr>\n",
       "  </tbody>\n",
       "</table>\n",
       "<p>100 rows × 3 columns</p>\n",
       "</div>"
      ],
      "text/plain": [
       "           Domain                                             NonReg  \\\n",
       "0      google.com  ['g00qle.com', 'g0oglc.com', 'go0glc.com', 'go...   \n",
       "1    facebook.com  ['facebook7.com', 'faccb00k.com', 'faccb0ok.co...   \n",
       "2    a-msedge.net  ['a-msedge0.net', 'a-msedge1.net', 'a-msedge2....   \n",
       "3     youtube.com  ['ymutube.com', 'xn--0utube-977b.com', 'xn--0u...   \n",
       "4   amazonaws.com  ['amazonaws0.com', 'amazonaws1.com', 'amazonaw...   \n",
       "..            ...                                                ...   \n",
       "95         nic.ru  ['nic0.ru', 'nic2.ru', 'nic3.ru', 'nic4.ru', '...   \n",
       "96    nytimes.com  ['nytimes0.com', 'nytimes1.com', 'nytimes3.com...   \n",
       "97    dropbox.com  ['dropbox0.com', 'dropbox3.com', 'dropbox4.com...   \n",
       "98  google.com.hk  ['google0.com.hk', 'google1.com.hk', 'google2....   \n",
       "99     fandom.com  ['fandom0.com', 'fandom1.com', 'fandom3.com', ...   \n",
       "\n",
       "                                                  Reg  \n",
       "0   ['google.com', 'google7.com', 'googlea.com', '...  \n",
       "1   ['facebook.com', 'facebook3.com', 'facebookk.c...  \n",
       "2   ['a-msedge.net', 'i-msedge.net', 'c-msedge.net...  \n",
       "3   ['youtube.com', 'youtube2.com', 'youtubea.com'...  \n",
       "4   ['amazonaws.com', 'amazonawso.com', 'amazonaws...  \n",
       "..                                                ...  \n",
       "95  ['nic.ru', 'nici.ru', 'nica.ru', 'nicw.ru', 'n...  \n",
       "96  ['nytimes.com', 'nytimesw.com', 'nytimesu.com'...  \n",
       "97  ['dropbox.com', 'dropboxe.com', 'dropboxx.com'...  \n",
       "98  ['google.com.hk', 'goggle.com.hk', 'googie.com...  \n",
       "99  ['fandom.com', 'fandomn.com', 'fandomj.com', '...  \n",
       "\n",
       "[100 rows x 3 columns]"
      ]
     },
     "execution_count": 51,
     "metadata": {},
     "output_type": "execute_result"
    }
   ],
   "source": [
    "# test = pd.read_csv('twisted.csv', index_col=0)\n",
    "# test"
   ]
  },
  {
   "cell_type": "code",
   "execution_count": 52,
   "metadata": {},
   "outputs": [
    {
     "name": "stdout",
     "output_type": "stream",
     "text": [
      "Requirement already satisfied: pillow in /opt/anaconda3/lib/python3.9/site-packages (8.4.0)\n",
      "Note: you may need to restart the kernel to use updated packages.\n"
     ]
    }
   ],
   "source": [
    "pip install pillow"
   ]
  },
  {
   "cell_type": "code",
   "execution_count": 53,
   "metadata": {},
   "outputs": [],
   "source": [
    "from PIL import Image, ImageDraw, ImageFont"
   ]
  },
  {
   "cell_type": "code",
   "execution_count": 67,
   "metadata": {},
   "outputs": [],
   "source": [
    "img = Image.new('RGB', (256, 256))\n",
    "text = \"go0gle.com\"\n",
    "# use a truetype font\n",
    "font = ImageFont.truetype(\"./fonts/arial.ttf\", 15)\n",
    "# Image is converted into editable form using\n",
    "# Draw function and assigned to d1\n",
    "d1 = ImageDraw.Draw(img)\n",
    "# Center text in image\n",
    "xpos = (img.size[0] / 2) - (font.getsize(text)[0]/2)\n",
    "ypos = (img.size[1] / 2) - (font.getsize(text)[1]/2)\n",
    "# Decide the text location, color and font\n",
    "d1.text((xpos, ypos), text, fill =(255, 255, 255), font=font)\n",
    " \n",
    "# show and save the image\n",
    "img.show()\n",
    "img.save(\"g0ogle.jpeg\")\n"
   ]
  },
  {
   "cell_type": "code",
   "execution_count": 79,
   "metadata": {},
   "outputs": [],
   "source": [
    "from skimage.metrics import structural_similarity as ssim, mean_squared_error as mse\n",
    "import numpy as np\n",
    "import cv2\n",
    "\n",
    "def calculate_similarity(imageA, imageB):\n",
    "    imageA = cv2.imread(imageA)\n",
    "    imageB = cv2.imread(imageB)\n",
    "    gsA = cv2.cvtColor(imageA, cv2.COLOR_BGR2GRAY)\n",
    "    gsB = cv2.cvtColor(imageB, cv2.COLOR_BGR2GRAY)\n",
    "    # Calculate the MSE and SSIM\n",
    "    m = mse(gsA, gsB)\n",
    "    s = ssim(gsA, gsB)\n",
    "\n",
    "    return m, s"
   ]
  },
  {
   "cell_type": "code",
   "execution_count": 80,
   "metadata": {},
   "outputs": [
    {
     "data": {
      "text/plain": [
       "(12.398849487304688, 0.998499693939025)"
      ]
     },
     "execution_count": 80,
     "metadata": {},
     "output_type": "execute_result"
    }
   ],
   "source": [
    "calculate_similarity('./google.jpeg', './g0ogle.jpeg')"
   ]
  },
  {
   "cell_type": "code",
   "execution_count": null,
   "metadata": {},
   "outputs": [],
   "source": []
  }
 ],
 "metadata": {
  "kernelspec": {
   "display_name": "base",
   "language": "python",
   "name": "python3"
  },
  "language_info": {
   "codemirror_mode": {
    "name": "ipython",
    "version": 3
   },
   "file_extension": ".py",
   "mimetype": "text/x-python",
   "name": "python",
   "nbconvert_exporter": "python",
   "pygments_lexer": "ipython3",
   "version": "3.9.7"
  },
  "orig_nbformat": 4,
  "vscode": {
   "interpreter": {
    "hash": "40d3a090f54c6569ab1632332b64b2c03c39dcf918b08424e98f38b5ae0af88f"
   }
  }
 },
 "nbformat": 4,
 "nbformat_minor": 2
}
